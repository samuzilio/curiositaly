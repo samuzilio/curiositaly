{
 "cells": [
  {
   "cell_type": "code",
   "execution_count": null,
   "id": "5f776a2c",
   "metadata": {},
   "outputs": [],
   "source": [
    "import geopandas as gpd"
   ]
  },
  {
   "cell_type": "code",
   "execution_count": null,
   "id": "c96e537b",
   "metadata": {},
   "outputs": [],
   "source": [
    "gdf = gpd.read_parquet(\n",
    "    \"data.parquet\"\n",
    ")"
   ]
  },
  {
   "cell_type": "code",
   "execution_count": null,
   "id": "bb9e7f02",
   "metadata": {},
   "outputs": [],
   "source": [
    "name_counts = (\n",
    "    gdf\n",
    "    .assign(\n",
    "        categories_primary=gdf[\"categories.primary\"],\n",
    "        names_primary=gdf[\"names.primary\"],\n",
    "    )\n",
    "    .groupby([\"categories_primary\", \"names_primary\"])\n",
    "    .size()\n",
    "    .reset_index(name=\"count\")\n",
    ")\n",
    "\n",
    "top_names = (\n",
    "    name_counts\n",
    "    .sort_values([\"categories_primary\", \"count\"], ascending=[True, False])\n",
    "    .groupby(\"categories_primary\")\n",
    "    .head(5)\n",
    "    .reset_index(drop=True)\n",
    ")\n",
    "\n",
    "for category in top_names[\"categories_primary\"].unique():\n",
    "    print(f\"\\nMost frequent names for {category.lower()}s:\")\n",
    "    top_in_category = top_names[top_names[\"categories_primary\"] == category]\n",
    "    for i, row in enumerate(top_in_category.itertuples(index=False), start=1):\n",
    "        print(f\"{i}- {row.names_primary} ({row.count} occurrences)\")"
   ]
  },
  {
   "cell_type": "code",
   "execution_count": null,
   "id": "61e6513e",
   "metadata": {},
   "outputs": [],
   "source": [
    "top_bars = top_names[\n",
    "    top_names[\"categories_primary\"] == \"bar\"\n",
    "]\n",
    "\n",
    "top_bars_gdf = gdf[\n",
    "    (gdf[\"categories.primary\"] == \"bar\") &\n",
    "    (gdf[\"names.primary\"].isin(top_bars[\"names_primary\"]))\n",
    "]\n",
    "\n",
    "top_bars_gdf = top_bars_gdf.assign(\n",
    "    bar_name=top_bars_gdf[\"names.primary\"]\n",
    ")\n",
    "\n",
    "top_bars_gdf.explore(\n",
    "    column=\"bar_name\",\n",
    "    cmap=\"Set1\",\n",
    "    tiles=\"CartoDB positron\",\n",
    "    legend=True,\n",
    "    tooltip=\"bar_name\",\n",
    "    marker_kwds={\"radius\": 5}\n",
    ")"
   ]
  },
  {
   "cell_type": "code",
   "execution_count": null,
   "id": "745e0749",
   "metadata": {},
   "outputs": [],
   "source": [
    "top_hotels = top_names[\n",
    "    top_names[\"categories_primary\"] == \"hotel\"\n",
    "]\n",
    "\n",
    "top_hotels_gdf = gdf[\n",
    "    (gdf[\"categories.primary\"] == \"hotel\") &\n",
    "    (gdf[\"names.primary\"].isin(top_hotels[\"names_primary\"]))\n",
    "]\n",
    "\n",
    "top_hotels_gdf = top_hotels_gdf.assign(\n",
    "    hotel_name=top_hotels_gdf[\"names.primary\"]\n",
    ")\n",
    "\n",
    "top_hotels_gdf.explore(\n",
    "    column=\"hotel_name\",\n",
    "    cmap=\"Set1\",\n",
    "    tiles=\"CartoDB positron\",\n",
    "    legend=True,\n",
    "    tooltip=\"hotel_name\",\n",
    "    marker_kwds={\"radius\": 5}\n",
    ")"
   ]
  },
  {
   "cell_type": "code",
   "execution_count": null,
   "id": "66737088",
   "metadata": {},
   "outputs": [],
   "source": [
    "top_restaurants = top_names[\n",
    "    top_names[\"categories_primary\"] == \"restaurant\"\n",
    "]\n",
    "\n",
    "top_restaurants_gdf = gdf[\n",
    "    (gdf[\"categories.primary\"] == \"restaurant\") &\n",
    "    (gdf[\"names.primary\"].isin(top_restaurants[\"names_primary\"]))\n",
    "]\n",
    "\n",
    "top_restaurants_gdf = top_restaurants_gdf.assign(\n",
    "    restaurant_name=top_restaurants_gdf[\"names.primary\"]\n",
    ")\n",
    "\n",
    "top_restaurants_gdf.explore(\n",
    "    column=\"restaurant_name\",\n",
    "    cmap=\"Set1\",\n",
    "    tiles=\"CartoDB positron\",\n",
    "    legend=True,\n",
    "    tooltip=\"restaurant_name\",\n",
    "    marker_kwds={\"radius\": 5}\n",
    ")"
   ]
  }
 ],
 "metadata": {
  "kernelspec": {
   "display_name": ".venv",
   "language": "python",
   "name": "python3"
  },
  "language_info": {
   "codemirror_mode": {
    "name": "ipython",
    "version": 3
   },
   "file_extension": ".py",
   "mimetype": "text/x-python",
   "name": "python",
   "nbconvert_exporter": "python",
   "pygments_lexer": "ipython3",
   "version": "3.12.2"
  }
 },
 "nbformat": 4,
 "nbformat_minor": 5
}
